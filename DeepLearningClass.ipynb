{
 "cells": [
  {
   "cell_type": "markdown",
   "metadata": {},
   "source": [
    "### DEEP LEARNING CLASSIFICATION"
   ]
  },
  {
   "cell_type": "code",
   "execution_count": 3,
   "metadata": {},
   "outputs": [
    {
     "name": "stderr",
     "output_type": "stream",
     "text": [
      "Using TensorFlow backend.\n"
     ]
    }
   ],
   "source": [
    "import pandas as pd\n",
    "import numpy as np\n",
    "from sklearn.preprocessing import StandardScaler\n",
    "import keras\n",
    "from keras.models import Sequential\n",
    "from keras.layers import Dense\n",
    "from sklearn.metrics import confusion_matrix\n",
    "from sklearn.model_selection import train_test_split\n",
    "import seaborn as sns"
   ]
  },
  {
   "cell_type": "code",
   "execution_count": 4,
   "metadata": {},
   "outputs": [],
   "source": [
    "data = pd.read_csv('features.csv')"
   ]
  },
  {
   "cell_type": "code",
   "execution_count": 5,
   "metadata": {},
   "outputs": [],
   "source": [
    "X=data.iloc[:,3:]\n",
    "y=data.iloc[:,2]"
   ]
  },
  {
   "cell_type": "code",
   "execution_count": 6,
   "metadata": {},
   "outputs": [
    {
     "data": {
      "text/plain": [
       "(1805, 13)"
      ]
     },
     "execution_count": 6,
     "metadata": {},
     "output_type": "execute_result"
    }
   ],
   "source": [
    "X.shape"
   ]
  },
  {
   "cell_type": "code",
   "execution_count": 7,
   "metadata": {},
   "outputs": [],
   "source": [
    "X_train, X_test , y_train, y_test = train_test_split(X ,y, test_size=0.18 , random_state=0)"
   ]
  },
  {
   "cell_type": "code",
   "execution_count": 8,
   "metadata": {},
   "outputs": [],
   "source": [
    "sc_X = StandardScaler()\n",
    "X_Train = sc_X.fit_transform(X_train)\n",
    "X_Test = sc_X.transform(X_test)"
   ]
  },
  {
   "cell_type": "code",
   "execution_count": 9,
   "metadata": {},
   "outputs": [],
   "source": [
    "clf = Sequential()"
   ]
  },
  {
   "cell_type": "code",
   "execution_count": 40,
   "metadata": {},
   "outputs": [
    {
     "name": "stderr",
     "output_type": "stream",
     "text": [
      "C:\\Users\\Aarsh\\Anaconda3\\lib\\site-packages\\ipykernel_launcher.py:1: UserWarning: Update your `Dense` call to the Keras 2 API: `Dense(10, activation=\"tanh\", input_dim=13, kernel_initializer=\"uniform\")`\n",
      "  \"\"\"Entry point for launching an IPython kernel.\n",
      "C:\\Users\\Aarsh\\Anaconda3\\lib\\site-packages\\ipykernel_launcher.py:2: UserWarning: Update your `Dense` call to the Keras 2 API: `Dense(8, activation=\"relu\", kernel_initializer=\"uniform\")`\n",
      "  \n",
      "C:\\Users\\Aarsh\\Anaconda3\\lib\\site-packages\\ipykernel_launcher.py:3: UserWarning: Update your `Dense` call to the Keras 2 API: `Dense(8, activation=\"relu\", kernel_initializer=\"uniform\")`\n",
      "  This is separate from the ipykernel package so we can avoid doing imports until\n",
      "C:\\Users\\Aarsh\\Anaconda3\\lib\\site-packages\\ipykernel_launcher.py:4: UserWarning: Update your `Dense` call to the Keras 2 API: `Dense(5, activation=\"softmax\", kernel_initializer=\"uniform\")`\n",
      "  after removing the cwd from sys.path.\n"
     ]
    }
   ],
   "source": [
    "clf.add(Dense(10,init ='uniform',activation ='tanh', input_dim = 13))\n",
    "clf.add(Dense(8,init ='uniform',activation ='relu'))\n",
    "clf.add(Dense(8,init ='uniform',activation ='relu'))\n",
    "clf.add(Dense(5,init ='uniform',activation ='softmax'))"
   ]
  },
  {
   "cell_type": "code",
   "execution_count": 41,
   "metadata": {},
   "outputs": [],
   "source": [
    "clf.compile(optimizer='adam',loss='sparse_categorical_crossentropy',metrics=['accuracy'])"
   ]
  },
  {
   "cell_type": "code",
   "execution_count": 58,
   "metadata": {
    "scrolled": true
   },
   "outputs": [
    {
     "name": "stdout",
     "output_type": "stream",
     "text": [
      "Epoch 1/120\n",
      "1480/1480 [==============================] - 0s 325us/step - loss: 0.7500 - accuracy: 0.6770\n",
      "Epoch 2/120\n",
      "1480/1480 [==============================] - 0s 330us/step - loss: 0.7378 - accuracy: 0.6784\n",
      "Epoch 3/120\n",
      "1480/1480 [==============================] - 1s 344us/step - loss: 0.7580 - accuracy: 0.6655\n",
      "Epoch 4/120\n",
      "1480/1480 [==============================] - 1s 348us/step - loss: 0.7374 - accuracy: 0.6946\n",
      "Epoch 5/120\n",
      "1480/1480 [==============================] - 1s 373us/step - loss: 0.7362 - accuracy: 0.6899\n",
      "Epoch 6/120\n",
      "1480/1480 [==============================] - 1s 405us/step - loss: 0.7381 - accuracy: 0.6865\n",
      "Epoch 7/120\n",
      "1480/1480 [==============================] - 1s 354us/step - loss: 0.7438 - accuracy: 0.6878\n",
      "Epoch 8/120\n",
      "1480/1480 [==============================] - 0s 319us/step - loss: 0.7357 - accuracy: 0.6838\n",
      "Epoch 9/120\n",
      "1480/1480 [==============================] - 1s 364us/step - loss: 0.7362 - accuracy: 0.6858\n",
      "Epoch 10/120\n",
      "1480/1480 [==============================] - 0s 320us/step - loss: 0.7348 - accuracy: 0.6838\n",
      "Epoch 11/120\n",
      "1480/1480 [==============================] - 1s 377us/step - loss: 0.7456 - accuracy: 0.6899\n",
      "Epoch 12/120\n",
      "1480/1480 [==============================] - 0s 324us/step - loss: 0.7366 - accuracy: 0.6885\n",
      "Epoch 13/120\n",
      "1480/1480 [==============================] - 1s 410us/step - loss: 0.7516 - accuracy: 0.6770\n",
      "Epoch 14/120\n",
      "1480/1480 [==============================] - 1s 487us/step - loss: 0.7371 - accuracy: 0.6926\n",
      "Epoch 15/120\n",
      "1480/1480 [==============================] - 1s 396us/step - loss: 0.7348 - accuracy: 0.6885\n",
      "Epoch 16/120\n",
      "1480/1480 [==============================] - 1s 424us/step - loss: 0.7422 - accuracy: 0.6750\n",
      "Epoch 17/120\n",
      "1480/1480 [==============================] - 1s 346us/step - loss: 0.7372 - accuracy: 0.6764\n",
      "Epoch 18/120\n",
      "1480/1480 [==============================] - 1s 442us/step - loss: 0.7370 - accuracy: 0.6791\n",
      "Epoch 19/120\n",
      "1480/1480 [==============================] - 1s 440us/step - loss: 0.7381 - accuracy: 0.6750\n",
      "Epoch 20/120\n",
      "1480/1480 [==============================] - 1s 439us/step - loss: 0.7426 - accuracy: 0.6858\n",
      "Epoch 21/120\n",
      "1480/1480 [==============================] - 1s 385us/step - loss: 0.7372 - accuracy: 0.6932\n",
      "Epoch 22/120\n",
      "1480/1480 [==============================] - 1s 345us/step - loss: 0.7464 - accuracy: 0.6723\n",
      "Epoch 23/120\n",
      "1480/1480 [==============================] - 1s 410us/step - loss: 0.7404 - accuracy: 0.6770\n",
      "Epoch 24/120\n",
      "1480/1480 [==============================] - 0s 328us/step - loss: 0.7765 - accuracy: 0.6527\n",
      "Epoch 25/120\n",
      "1480/1480 [==============================] - 1s 373us/step - loss: 0.7372 - accuracy: 0.6865\n",
      "Epoch 26/120\n",
      "1480/1480 [==============================] - 0s 321us/step - loss: 0.7366 - accuracy: 0.6797\n",
      "Epoch 27/120\n",
      "1480/1480 [==============================] - 1s 368us/step - loss: 0.7448 - accuracy: 0.6764\n",
      "Epoch 28/120\n",
      "1480/1480 [==============================] - 0s 320us/step - loss: 0.7408 - accuracy: 0.6757\n",
      "Epoch 29/120\n",
      "1480/1480 [==============================] - 1s 371us/step - loss: 0.7461 - accuracy: 0.6757\n",
      "Epoch 30/120\n",
      "1480/1480 [==============================] - 0s 327us/step - loss: 0.7367 - accuracy: 0.6899\n",
      "Epoch 31/120\n",
      "1480/1480 [==============================] - 1s 376us/step - loss: 0.7338 - accuracy: 0.68240s - loss: 0.7218 - \n",
      "Epoch 32/120\n",
      "1480/1480 [==============================] - 0s 333us/step - loss: 0.7387 - accuracy: 0.6831\n",
      "Epoch 33/120\n",
      "1480/1480 [==============================] - 1s 341us/step - loss: 0.7457 - accuracy: 0.6831\n",
      "Epoch 34/120\n",
      "1480/1480 [==============================] - 0s 326us/step - loss: 0.7496 - accuracy: 0.6845\n",
      "Epoch 35/120\n",
      "1480/1480 [==============================] - 1s 371us/step - loss: 0.7409 - accuracy: 0.6791\n",
      "Epoch 36/120\n",
      "1480/1480 [==============================] - 0s 330us/step - loss: 0.7399 - accuracy: 0.6818\n",
      "Epoch 37/120\n",
      "1480/1480 [==============================] - 1s 379us/step - loss: 0.7442 - accuracy: 0.6757\n",
      "Epoch 38/120\n",
      "1480/1480 [==============================] - 0s 329us/step - loss: 0.7439 - accuracy: 0.6777\n",
      "Epoch 39/120\n",
      "1480/1480 [==============================] - 1s 387us/step - loss: 0.7343 - accuracy: 0.6750\n",
      "Epoch 40/120\n",
      "1480/1480 [==============================] - 0s 335us/step - loss: 0.7406 - accuracy: 0.6750\n",
      "Epoch 41/120\n",
      "1480/1480 [==============================] - 1s 393us/step - loss: 0.7415 - accuracy: 0.6797\n",
      "Epoch 42/120\n",
      "1480/1480 [==============================] - 1s 393us/step - loss: 0.7553 - accuracy: 0.6703\n",
      "Epoch 43/120\n",
      "1480/1480 [==============================] - 1s 497us/step - loss: 0.7382 - accuracy: 0.6791\n",
      "Epoch 44/120\n",
      "1480/1480 [==============================] - 1s 368us/step - loss: 0.7373 - accuracy: 0.6872\n",
      "Epoch 45/120\n",
      "1480/1480 [==============================] - 1s 358us/step - loss: 0.7366 - accuracy: 0.6851\n",
      "Epoch 46/120\n",
      "1480/1480 [==============================] - 1s 365us/step - loss: 0.7403 - accuracy: 0.6831\n",
      "Epoch 47/120\n",
      "1480/1480 [==============================] - 1s 363us/step - loss: 0.7318 - accuracy: 0.6851\n",
      "Epoch 48/120\n",
      "1480/1480 [==============================] - 1s 437us/step - loss: 0.7327 - accuracy: 0.6851\n",
      "Epoch 49/120\n",
      "1480/1480 [==============================] - ETA: 0s - loss: 0.7419 - accuracy: 0.67 - 1s 448us/step - loss: 0.7425 - accuracy: 0.6736\n",
      "Epoch 50/120\n",
      "1480/1480 [==============================] - 1s 357us/step - loss: 0.7519 - accuracy: 0.6696\n",
      "Epoch 51/120\n",
      "1480/1480 [==============================] - 1s 394us/step - loss: 0.7503 - accuracy: 0.6649\n",
      "Epoch 52/120\n",
      "1480/1480 [==============================] - 0s 333us/step - loss: 0.7350 - accuracy: 0.6905\n",
      "Epoch 53/120\n",
      "1480/1480 [==============================] - 1s 376us/step - loss: 0.7426 - accuracy: 0.6811\n",
      "Epoch 54/120\n",
      "1480/1480 [==============================] - 0s 332us/step - loss: 0.7395 - accuracy: 0.6750\n",
      "Epoch 55/120\n",
      "1480/1480 [==============================] - 1s 379us/step - loss: 0.7325 - accuracy: 0.6939\n",
      "Epoch 56/120\n",
      "1480/1480 [==============================] - 0s 332us/step - loss: 0.7395 - accuracy: 0.6851\n",
      "Epoch 57/120\n",
      "1480/1480 [==============================] - 1s 390us/step - loss: 0.7417 - accuracy: 0.6905\n",
      "Epoch 58/120\n",
      "1480/1480 [==============================] - 0s 334us/step - loss: 0.7367 - accuracy: 0.6858\n",
      "Epoch 59/120\n",
      "1480/1480 [==============================] - 1s 391us/step - loss: 0.7263 - accuracy: 0.6865\n",
      "Epoch 60/120\n",
      "1480/1480 [==============================] - 0s 334us/step - loss: 0.7343 - accuracy: 0.6750\n",
      "Epoch 61/120\n",
      "1480/1480 [==============================] - 1s 384us/step - loss: 0.7276 - accuracy: 0.6838\n",
      "Epoch 62/120\n",
      "1480/1480 [==============================] - 0s 334us/step - loss: 0.7349 - accuracy: 0.6912\n",
      "Epoch 63/120\n",
      "1480/1480 [==============================] - 1s 377us/step - loss: 0.7616 - accuracy: 0.6696\n",
      "Epoch 64/120\n",
      "1480/1480 [==============================] - 1s 344us/step - loss: 0.7331 - accuracy: 0.6912\n",
      "Epoch 65/120\n",
      "1480/1480 [==============================] - 1s 363us/step - loss: 0.7284 - accuracy: 0.6946\n",
      "Epoch 66/120\n",
      "1480/1480 [==============================] - 1s 341us/step - loss: 0.7425 - accuracy: 0.6885\n",
      "Epoch 67/120\n",
      "1480/1480 [==============================] - 1s 359us/step - loss: 0.7519 - accuracy: 0.6764\n",
      "Epoch 68/120\n",
      "1480/1480 [==============================] - 1s 355us/step - loss: 0.7470 - accuracy: 0.6878\n",
      "Epoch 69/120\n",
      "1480/1480 [==============================] - 1s 371us/step - loss: 0.7449 - accuracy: 0.6696\n",
      "Epoch 70/120\n",
      "1480/1480 [==============================] - 1s 371us/step - loss: 0.7386 - accuracy: 0.6905\n",
      "Epoch 71/120\n",
      "1480/1480 [==============================] - 1s 414us/step - loss: 0.7337 - accuracy: 0.6851\n",
      "Epoch 72/120\n",
      "1480/1480 [==============================] - 1s 506us/step - loss: 0.7331 - accuracy: 0.6872\n",
      "Epoch 73/120\n",
      "1480/1480 [==============================] - 1s 344us/step - loss: 0.7367 - accuracy: 0.6892\n",
      "Epoch 74/120\n",
      "1480/1480 [==============================] - 1s 385us/step - loss: 0.7335 - accuracy: 0.6912\n",
      "Epoch 75/120\n",
      "1480/1480 [==============================] - 1s 340us/step - loss: 0.7414 - accuracy: 0.6676\n",
      "Epoch 76/120\n",
      "1480/1480 [==============================] - 1s 390us/step - loss: 0.7289 - accuracy: 0.6818\n",
      "Epoch 77/120\n",
      "1480/1480 [==============================] - 1s 403us/step - loss: 0.7381 - accuracy: 0.6831\n",
      "Epoch 78/120\n",
      "1480/1480 [==============================] - 1s 425us/step - loss: 0.7501 - accuracy: 0.6757\n",
      "Epoch 79/120\n",
      "1480/1480 [==============================] - 0s 327us/step - loss: 0.7311 - accuracy: 0.6946\n",
      "Epoch 80/120\n",
      "1480/1480 [==============================] - 1s 351us/step - loss: 0.7375 - accuracy: 0.6797\n",
      "Epoch 81/120\n",
      "1480/1480 [==============================] - 0s 313us/step - loss: 0.7373 - accuracy: 0.6824\n",
      "Epoch 82/120\n",
      "1480/1480 [==============================] - 1s 373us/step - loss: 0.7394 - accuracy: 0.6831\n",
      "Epoch 83/120\n",
      "1480/1480 [==============================] - 0s 314us/step - loss: 0.7357 - accuracy: 0.6811\n",
      "Epoch 84/120\n",
      "1480/1480 [==============================] - 1s 375us/step - loss: 0.7366 - accuracy: 0.6804\n",
      "Epoch 85/120\n",
      "1480/1480 [==============================] - 0s 315us/step - loss: 0.7244 - accuracy: 0.6872\n",
      "Epoch 86/120\n",
      "1480/1480 [==============================] - 1s 373us/step - loss: 0.7442 - accuracy: 0.6919\n",
      "Epoch 87/120\n",
      "1480/1480 [==============================] - 0s 317us/step - loss: 0.7321 - accuracy: 0.6865\n",
      "Epoch 88/120\n",
      "1480/1480 [==============================] - 1s 379us/step - loss: 0.7486 - accuracy: 0.6669\n",
      "Epoch 89/120\n",
      "1480/1480 [==============================] - 0s 317us/step - loss: 0.7449 - accuracy: 0.6824\n",
      "Epoch 90/120\n",
      "1480/1480 [==============================] - 1s 371us/step - loss: 0.7479 - accuracy: 0.6831\n",
      "Epoch 91/120\n",
      "1480/1480 [==============================] - 0s 319us/step - loss: 0.7398 - accuracy: 0.6777\n",
      "Epoch 92/120\n",
      "1480/1480 [==============================] - 1s 379us/step - loss: 0.7294 - accuracy: 0.6750\n",
      "Epoch 93/120\n",
      "1480/1480 [==============================] - 0s 314us/step - loss: 0.7315 - accuracy: 0.6939\n",
      "Epoch 94/120\n",
      "1480/1480 [==============================] - 1s 363us/step - loss: 0.7376 - accuracy: 0.6865\n",
      "Epoch 95/120\n",
      "1480/1480 [==============================] - 0s 317us/step - loss: 0.7345 - accuracy: 0.6811\n",
      "Epoch 96/120\n",
      "1480/1480 [==============================] - 1s 373us/step - loss: 0.7202 - accuracy: 0.6851\n",
      "Epoch 97/120\n",
      "1480/1480 [==============================] - 0s 321us/step - loss: 0.7380 - accuracy: 0.6818\n",
      "Epoch 98/120\n",
      "1480/1480 [==============================] - 1s 369us/step - loss: 0.7484 - accuracy: 0.6797\n",
      "Epoch 99/120\n",
      "1480/1480 [==============================] - 0s 330us/step - loss: 0.7350 - accuracy: 0.6845\n",
      "Epoch 100/120\n",
      "1480/1480 [==============================] - 0s 323us/step - loss: 0.7422 - accuracy: 0.6831\n",
      "Epoch 101/120\n",
      "1480/1480 [==============================] - 1s 388us/step - loss: 0.7411 - accuracy: 0.6811\n",
      "Epoch 102/120\n",
      "1480/1480 [==============================] - 1s 499us/step - loss: 0.7432 - accuracy: 0.6777\n",
      "Epoch 103/120\n",
      "1480/1480 [==============================] - 1s 351us/step - loss: 0.7360 - accuracy: 0.6872\n",
      "Epoch 104/120\n",
      "1480/1480 [==============================] - 1s 375us/step - loss: 0.7361 - accuracy: 0.6845\n",
      "Epoch 105/120\n",
      "1480/1480 [==============================] - 0s 333us/step - loss: 0.7286 - accuracy: 0.6973\n",
      "Epoch 106/120\n",
      "1480/1480 [==============================] - 1s 370us/step - loss: 0.7407 - accuracy: 0.6845\n",
      "Epoch 107/120\n",
      "1480/1480 [==============================] - 1s 407us/step - loss: 0.7306 - accuracy: 0.6939\n",
      "Epoch 108/120\n",
      "1480/1480 [==============================] - 1s 478us/step - loss: 0.7360 - accuracy: 0.6736\n",
      "Epoch 109/120\n",
      "1480/1480 [==============================] - 1s 440us/step - loss: 0.7392 - accuracy: 0.6797\n",
      "Epoch 110/120\n",
      "1480/1480 [==============================] - 1s 384us/step - loss: 0.7346 - accuracy: 0.6784\n",
      "Epoch 111/120\n",
      "1480/1480 [==============================] - 1s 379us/step - loss: 0.7260 - accuracy: 0.6811\n",
      "Epoch 112/120\n",
      "1480/1480 [==============================] - 1s 340us/step - loss: 0.7422 - accuracy: 0.6750\n",
      "Epoch 113/120\n",
      "1480/1480 [==============================] - 1s 421us/step - loss: 0.7295 - accuracy: 0.6926\n",
      "Epoch 114/120\n",
      "1480/1480 [==============================] - 1s 356us/step - loss: 0.7299 - accuracy: 0.6791\n",
      "Epoch 115/120\n",
      "1480/1480 [==============================] - 1s 416us/step - loss: 0.7294 - accuracy: 0.6750\n",
      "Epoch 116/120\n",
      "1480/1480 [==============================] - 1s 362us/step - loss: 0.7251 - accuracy: 0.6905\n",
      "Epoch 117/120\n",
      "1480/1480 [==============================] - 1s 394us/step - loss: 0.7344 - accuracy: 0.68180s - loss: 0.7553 \n",
      "Epoch 118/120\n",
      "1480/1480 [==============================] - 1s 369us/step - loss: 0.7305 - accuracy: 0.6892\n",
      "Epoch 119/120\n",
      "1480/1480 [==============================] - 1s 347us/step - loss: 0.7223 - accuracy: 0.6986\n",
      "Epoch 120/120\n",
      "1480/1480 [==============================] - 1s 375us/step - loss: 0.7295 - accuracy: 0.6797\n"
     ]
    },
    {
     "data": {
      "text/plain": [
       "<keras.callbacks.callbacks.History at 0x18216e96860>"
      ]
     },
     "execution_count": 58,
     "metadata": {},
     "output_type": "execute_result"
    }
   ],
   "source": [
    "clf.fit(X_train,y_train,batch_size=7,epochs=120)"
   ]
  },
  {
   "cell_type": "code",
   "execution_count": 59,
   "metadata": {},
   "outputs": [],
   "source": [
    "y_prediction = clf.predict(X_test)"
   ]
  },
  {
   "cell_type": "code",
   "execution_count": 60,
   "metadata": {},
   "outputs": [
    {
     "data": {
      "text/plain": [
       "array([[7.79451395e-04, 4.67677899e-02, 5.85344553e-01, 3.66405517e-01,\n",
       "        7.02664896e-04],\n",
       "       [4.66229161e-03, 1.73590243e-01, 7.81895757e-01, 3.98512483e-02,\n",
       "        5.01599970e-07],\n",
       "       [5.51325320e-05, 4.86025820e-03, 1.40148491e-01, 7.31493115e-01,\n",
       "        1.23443000e-01],\n",
       "       ...,\n",
       "       [6.24436725e-05, 5.46946190e-03, 1.54757053e-01, 7.44274676e-01,\n",
       "        9.54364315e-02],\n",
       "       [2.28192628e-04, 1.69290230e-02, 3.33817631e-01, 6.37590349e-01,\n",
       "        1.14348475e-02],\n",
       "       [4.19338676e-06, 3.98398755e-04, 1.43147986e-02, 1.93283632e-01,\n",
       "        7.91998982e-01]], dtype=float32)"
      ]
     },
     "execution_count": 60,
     "metadata": {},
     "output_type": "execute_result"
    }
   ],
   "source": [
    "y_prediction"
   ]
  },
  {
   "cell_type": "code",
   "execution_count": 61,
   "metadata": {},
   "outputs": [],
   "source": [
    "y_pred = np.argmax(y_prediction, axis=1)"
   ]
  },
  {
   "cell_type": "code",
   "execution_count": 62,
   "metadata": {},
   "outputs": [
    {
     "data": {
      "text/plain": [
       "(325,)"
      ]
     },
     "execution_count": 62,
     "metadata": {},
     "output_type": "execute_result"
    }
   ],
   "source": [
    "y_pred.shape"
   ]
  },
  {
   "cell_type": "code",
   "execution_count": 63,
   "metadata": {},
   "outputs": [],
   "source": [
    "cm = confusion_matrix(y_test,y_pred)"
   ]
  },
  {
   "cell_type": "code",
   "execution_count": 64,
   "metadata": {},
   "outputs": [
    {
     "data": {
      "text/plain": [
       "<AxesSubplot:>"
      ]
     },
     "execution_count": 64,
     "metadata": {},
     "output_type": "execute_result"
    },
    {
     "data": {
      "image/png": "[encoded data removed]",
      "text/plain": [
       "<Figure size 432x288 with 2 Axes>"
      ]
     },
     "metadata": {
      "needs_background": "light"
     },
     "output_type": "display_data"
    }
   ],
   "source": [
    "sns.heatmap(cm, annot=True)"
   ]
  },
  {
   "cell_type": "code",
   "execution_count": 65,
   "metadata": {},
   "outputs": [
    {
     "data": {
      "text/plain": [
       "0.6892307692307692"
      ]
     },
     "execution_count": 65,
     "metadata": {},
     "output_type": "execute_result"
    }
   ],
   "source": [
    "from sklearn.metrics import accuracy_score\n",
    "accuracy_score(y_test, y_pred)"
   ]
  },
  {
   "cell_type": "code",
   "execution_count": null,
   "metadata": {},
   "outputs": [],
   "source": []
  }
 ],
 "metadata": {
  "kernelspec": {
   "display_name": "Python 3",
   "language": "python",
   "name": "python3"
  },
  "language_info": {
   "codemirror_mode": {
    "name": "ipython",
    "version": 3
   },
   "file_extension": ".py",
   "mimetype": "text/x-python",
   "name": "python",
   "nbconvert_exporter": "python",
   "pygments_lexer": "ipython3",
   "version": "3.7.3"
  }
 },
 "nbformat": 4,
 "nbformat_minor": 4
}
